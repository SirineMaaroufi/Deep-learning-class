{
  "nbformat": 4,
  "nbformat_minor": 0,
  "metadata": {
    "colab": {
      "provenance": []
    },
    "kernelspec": {
      "name": "python3",
      "display_name": "Python 3"
    },
    "language_info": {
      "name": "python"
    }
  },
  "cells": [
    {
      "cell_type": "markdown",
      "metadata": {
        "id": "3GSA95HGlml5"
      },
      "source": [
        "#National school of sciences and advanced technologies of Borj Cedria\n",
        "###Deep learning tutorial 3: Text Classification using Neural Networks\n",
        "\n",
        "\n",
        "Author: **MAAROUFI Sirine 2 TA 1**"
      ]
    },
    {
      "cell_type": "markdown",
      "source": [
        "# Importing Required Packages"
      ],
      "metadata": {
        "id": "xRx1jLaaP0Im"
      }
    },
    {
      "cell_type": "code",
      "source": [
        "import numpy as np\n",
        "import pandas as pd\n",
        "import string\n",
        "from keras.models import Model\n",
        "from keras import Input\n"
      ],
      "metadata": {
        "id": "4AIAklnOP7q5"
      },
      "execution_count": null,
      "outputs": []
    },
    {
      "cell_type": "code",
      "source": [
        "from keras.layers import *\n",
        "import text_cleaners as txt\n",
        "from sklearn.feature_extraction.text import TfidfVectorizer"
      ],
      "metadata": {
        "id": "iMTbdlUDQaQW"
      },
      "execution_count": null,
      "outputs": []
    },
    {
      "cell_type": "markdown",
      "source": [
        "# Load Data"
      ],
      "metadata": {
        "id": "4eAB7LGoQTy_"
      }
    },
    {
      "cell_type": "code",
      "source": [
        " dframe = pd.read_csv(\"news.csv\", sep=',', encoding = \"ISO-8859-1\",\n",
        "                    error_bad_lines=False)"
      ],
      "metadata": {
        "colab": {
          "base_uri": "https://localhost:8080/"
        },
        "id": "Hhe6qkfFQSuy",
        "outputId": "d8325f2f-884a-40ab-aada-26cc5536956d"
      },
      "execution_count": null,
      "outputs": [
        {
          "output_type": "stream",
          "name": "stderr",
          "text": [
            "/usr/local/lib/python3.8/dist-packages/IPython/core/interactiveshell.py:3326: FutureWarning: The error_bad_lines argument has been deprecated and will be removed in a future version.\n",
            "\n",
            "\n",
            "  exec(code_obj, self.user_global_ns, self.user_ns)\n"
          ]
        }
      ]
    },
    {
      "cell_type": "code",
      "source": [
        "len(dframe)"
      ],
      "metadata": {
        "colab": {
          "base_uri": "https://localhost:8080/"
        },
        "id": "GWGT3f6vQHx7",
        "outputId": "d5a23723-8c2a-47b6-b4f1-23bcd7f43516"
      },
      "execution_count": null,
      "outputs": [
        {
          "output_type": "execute_result",
          "data": {
            "text/plain": [
              "2225"
            ]
          },
          "metadata": {},
          "execution_count": 5
        }
      ]
    },
    {
      "cell_type": "code",
      "source": [
        "dframe[:20]"
      ],
      "metadata": {
        "colab": {
          "base_uri": "https://localhost:8080/",
          "height": 677
        },
        "id": "qK8tVMruREtj",
        "outputId": "c3d3aec6-a0df-4d59-d3c9-900a09f280da"
      },
      "execution_count": null,
      "outputs": [
        {
          "output_type": "execute_result",
          "data": {
            "text/plain": [
              "                                                 news      type\n",
              "0   China had role in Yukos split-up\\n \\n China le...  business\n",
              "1   Oil rebounds from weather effect\\n \\n Oil pric...  business\n",
              "2   Indonesia 'declines debt freeze'\\n \\n Indonesi...  business\n",
              "3   $1m payoff for former Shell boss\\n \\n Shell is...  business\n",
              "4   US bank in $515m SEC settlement\\n \\n Five Bank...  business\n",
              "5   Verizon 'seals takeover of MCI'\\n \\n Verizon h...  business\n",
              "6   Parmalat boasts doubled profits\\n \\n Parmalat,...  business\n",
              "7   US seeks new $280bn smoker ruling\\n \\n The US ...  business\n",
              "8   Steel firm 'to cut' 45,000 jobs\\n \\n Mittal St...  business\n",
              "9   Cars pull down US retail figures\\n \\n US retai...  business\n",
              "10  Singapore growth at 8.1% in 2004\\n \\n Singapor...  business\n",
              "11  UK bank seals South Korean deal\\n \\n UK-based ...  business\n",
              "12  ECB holds rates amid growth fears\\n \\n The Eur...  business\n",
              "13  Rank 'set to sell off film unit'\\n \\n Leisure ...  business\n",
              "14  US adds more jobs than expected\\n \\n The US ec...  business\n",
              "15  House prices show slight increase\\n \\n Prices ...  business\n",
              "16  Pension hitch for long-living men\\n \\n Male li...  business\n",
              "17  Asian quake hits European shares\\n \\n Shares i...  business\n",
              "18  Honda wins China copyright ruling\\n \\n Japan's...  business\n",
              "19  Bank set to leave rates on hold\\n \\n UK intere...  business"
            ],
            "text/html": [
              "\n",
              "  <div id=\"df-e766e0c8-ae2a-49cb-82b9-f1f7326d9ab4\">\n",
              "    <div class=\"colab-df-container\">\n",
              "      <div>\n",
              "<style scoped>\n",
              "    .dataframe tbody tr th:only-of-type {\n",
              "        vertical-align: middle;\n",
              "    }\n",
              "\n",
              "    .dataframe tbody tr th {\n",
              "        vertical-align: top;\n",
              "    }\n",
              "\n",
              "    .dataframe thead th {\n",
              "        text-align: right;\n",
              "    }\n",
              "</style>\n",
              "<table border=\"1\" class=\"dataframe\">\n",
              "  <thead>\n",
              "    <tr style=\"text-align: right;\">\n",
              "      <th></th>\n",
              "      <th>news</th>\n",
              "      <th>type</th>\n",
              "    </tr>\n",
              "  </thead>\n",
              "  <tbody>\n",
              "    <tr>\n",
              "      <th>0</th>\n",
              "      <td>China had role in Yukos split-up\\n \\n China le...</td>\n",
              "      <td>business</td>\n",
              "    </tr>\n",
              "    <tr>\n",
              "      <th>1</th>\n",
              "      <td>Oil rebounds from weather effect\\n \\n Oil pric...</td>\n",
              "      <td>business</td>\n",
              "    </tr>\n",
              "    <tr>\n",
              "      <th>2</th>\n",
              "      <td>Indonesia 'declines debt freeze'\\n \\n Indonesi...</td>\n",
              "      <td>business</td>\n",
              "    </tr>\n",
              "    <tr>\n",
              "      <th>3</th>\n",
              "      <td>$1m payoff for former Shell boss\\n \\n Shell is...</td>\n",
              "      <td>business</td>\n",
              "    </tr>\n",
              "    <tr>\n",
              "      <th>4</th>\n",
              "      <td>US bank in $515m SEC settlement\\n \\n Five Bank...</td>\n",
              "      <td>business</td>\n",
              "    </tr>\n",
              "    <tr>\n",
              "      <th>5</th>\n",
              "      <td>Verizon 'seals takeover of MCI'\\n \\n Verizon h...</td>\n",
              "      <td>business</td>\n",
              "    </tr>\n",
              "    <tr>\n",
              "      <th>6</th>\n",
              "      <td>Parmalat boasts doubled profits\\n \\n Parmalat,...</td>\n",
              "      <td>business</td>\n",
              "    </tr>\n",
              "    <tr>\n",
              "      <th>7</th>\n",
              "      <td>US seeks new $280bn smoker ruling\\n \\n The US ...</td>\n",
              "      <td>business</td>\n",
              "    </tr>\n",
              "    <tr>\n",
              "      <th>8</th>\n",
              "      <td>Steel firm 'to cut' 45,000 jobs\\n \\n Mittal St...</td>\n",
              "      <td>business</td>\n",
              "    </tr>\n",
              "    <tr>\n",
              "      <th>9</th>\n",
              "      <td>Cars pull down US retail figures\\n \\n US retai...</td>\n",
              "      <td>business</td>\n",
              "    </tr>\n",
              "    <tr>\n",
              "      <th>10</th>\n",
              "      <td>Singapore growth at 8.1% in 2004\\n \\n Singapor...</td>\n",
              "      <td>business</td>\n",
              "    </tr>\n",
              "    <tr>\n",
              "      <th>11</th>\n",
              "      <td>UK bank seals South Korean deal\\n \\n UK-based ...</td>\n",
              "      <td>business</td>\n",
              "    </tr>\n",
              "    <tr>\n",
              "      <th>12</th>\n",
              "      <td>ECB holds rates amid growth fears\\n \\n The Eur...</td>\n",
              "      <td>business</td>\n",
              "    </tr>\n",
              "    <tr>\n",
              "      <th>13</th>\n",
              "      <td>Rank 'set to sell off film unit'\\n \\n Leisure ...</td>\n",
              "      <td>business</td>\n",
              "    </tr>\n",
              "    <tr>\n",
              "      <th>14</th>\n",
              "      <td>US adds more jobs than expected\\n \\n The US ec...</td>\n",
              "      <td>business</td>\n",
              "    </tr>\n",
              "    <tr>\n",
              "      <th>15</th>\n",
              "      <td>House prices show slight increase\\n \\n Prices ...</td>\n",
              "      <td>business</td>\n",
              "    </tr>\n",
              "    <tr>\n",
              "      <th>16</th>\n",
              "      <td>Pension hitch for long-living men\\n \\n Male li...</td>\n",
              "      <td>business</td>\n",
              "    </tr>\n",
              "    <tr>\n",
              "      <th>17</th>\n",
              "      <td>Asian quake hits European shares\\n \\n Shares i...</td>\n",
              "      <td>business</td>\n",
              "    </tr>\n",
              "    <tr>\n",
              "      <th>18</th>\n",
              "      <td>Honda wins China copyright ruling\\n \\n Japan's...</td>\n",
              "      <td>business</td>\n",
              "    </tr>\n",
              "    <tr>\n",
              "      <th>19</th>\n",
              "      <td>Bank set to leave rates on hold\\n \\n UK intere...</td>\n",
              "      <td>business</td>\n",
              "    </tr>\n",
              "  </tbody>\n",
              "</table>\n",
              "</div>\n",
              "      <button class=\"colab-df-convert\" onclick=\"convertToInteractive('df-e766e0c8-ae2a-49cb-82b9-f1f7326d9ab4')\"\n",
              "              title=\"Convert this dataframe to an interactive table.\"\n",
              "              style=\"display:none;\">\n",
              "        \n",
              "  <svg xmlns=\"http://www.w3.org/2000/svg\" height=\"24px\"viewBox=\"0 0 24 24\"\n",
              "       width=\"24px\">\n",
              "    <path d=\"M0 0h24v24H0V0z\" fill=\"none\"/>\n",
              "    <path d=\"M18.56 5.44l.94 2.06.94-2.06 2.06-.94-2.06-.94-.94-2.06-.94 2.06-2.06.94zm-11 1L8.5 8.5l.94-2.06 2.06-.94-2.06-.94L8.5 2.5l-.94 2.06-2.06.94zm10 10l.94 2.06.94-2.06 2.06-.94-2.06-.94-.94-2.06-.94 2.06-2.06.94z\"/><path d=\"M17.41 7.96l-1.37-1.37c-.4-.4-.92-.59-1.43-.59-.52 0-1.04.2-1.43.59L10.3 9.45l-7.72 7.72c-.78.78-.78 2.05 0 2.83L4 21.41c.39.39.9.59 1.41.59.51 0 1.02-.2 1.41-.59l7.78-7.78 2.81-2.81c.8-.78.8-2.07 0-2.86zM5.41 20L4 18.59l7.72-7.72 1.47 1.35L5.41 20z\"/>\n",
              "  </svg>\n",
              "      </button>\n",
              "      \n",
              "  <style>\n",
              "    .colab-df-container {\n",
              "      display:flex;\n",
              "      flex-wrap:wrap;\n",
              "      gap: 12px;\n",
              "    }\n",
              "\n",
              "    .colab-df-convert {\n",
              "      background-color: #E8F0FE;\n",
              "      border: none;\n",
              "      border-radius: 50%;\n",
              "      cursor: pointer;\n",
              "      display: none;\n",
              "      fill: #1967D2;\n",
              "      height: 32px;\n",
              "      padding: 0 0 0 0;\n",
              "      width: 32px;\n",
              "    }\n",
              "\n",
              "    .colab-df-convert:hover {\n",
              "      background-color: #E2EBFA;\n",
              "      box-shadow: 0px 1px 2px rgba(60, 64, 67, 0.3), 0px 1px 3px 1px rgba(60, 64, 67, 0.15);\n",
              "      fill: #174EA6;\n",
              "    }\n",
              "\n",
              "    [theme=dark] .colab-df-convert {\n",
              "      background-color: #3B4455;\n",
              "      fill: #D2E3FC;\n",
              "    }\n",
              "\n",
              "    [theme=dark] .colab-df-convert:hover {\n",
              "      background-color: #434B5C;\n",
              "      box-shadow: 0px 1px 3px 1px rgba(0, 0, 0, 0.15);\n",
              "      filter: drop-shadow(0px 1px 2px rgba(0, 0, 0, 0.3));\n",
              "      fill: #FFFFFF;\n",
              "    }\n",
              "  </style>\n",
              "\n",
              "      <script>\n",
              "        const buttonEl =\n",
              "          document.querySelector('#df-e766e0c8-ae2a-49cb-82b9-f1f7326d9ab4 button.colab-df-convert');\n",
              "        buttonEl.style.display =\n",
              "          google.colab.kernel.accessAllowed ? 'block' : 'none';\n",
              "\n",
              "        async function convertToInteractive(key) {\n",
              "          const element = document.querySelector('#df-e766e0c8-ae2a-49cb-82b9-f1f7326d9ab4');\n",
              "          const dataTable =\n",
              "            await google.colab.kernel.invokeFunction('convertToInteractive',\n",
              "                                                     [key], {});\n",
              "          if (!dataTable) return;\n",
              "\n",
              "          const docLinkHtml = 'Like what you see? Visit the ' +\n",
              "            '<a target=\"_blank\" href=https://colab.research.google.com/notebooks/data_table.ipynb>data table notebook</a>'\n",
              "            + ' to learn more about interactive tables.';\n",
              "          element.innerHTML = '';\n",
              "          dataTable['output_type'] = 'display_data';\n",
              "          await google.colab.output.renderOutput(dataTable, element);\n",
              "          const docLink = document.createElement('div');\n",
              "          docLink.innerHTML = docLinkHtml;\n",
              "          element.appendChild(docLink);\n",
              "        }\n",
              "      </script>\n",
              "    </div>\n",
              "  </div>\n",
              "  "
            ]
          },
          "metadata": {},
          "execution_count": 6
        }
      ]
    },
    {
      "cell_type": "code",
      "source": [
        "#list_of_words = dframe['Word'].values.tolist() ; print(list_of_words[:10])\n",
        "news = dframe['news'].values.tolist()\n",
        "types = dframe['type'].values.tolist()\n",
        "print(news[1])\n",
        "print(set(types))"
      ],
      "metadata": {
        "colab": {
          "base_uri": "https://localhost:8080/"
        },
        "id": "sw8nGF7hQ4bE",
        "outputId": "66007b1f-0058-40d0-c518-9ae4a8e5d8e0"
      },
      "execution_count": null,
      "outputs": [
        {
          "output_type": "stream",
          "name": "stdout",
          "text": [
            "Oil rebounds from weather effect\n",
            " \n",
            " Oil prices recovered in Asian trade on Tuesday, after falling in New York on milder winter weather across the US.\n",
            " \n",
            " With winter temperatures staying relatively high in the northern US, a barrel of light crude ended Monday down $1.33 to $42.12. However crude prices have rebounded in Asia, rising to $42.30 a barrel for February delivery. In London, trading of Brent crude was suspended for a public holiday, but the price fell to $39.20 in the Far East.\n",
            " \n",
            " With milder temperatures expected to continue in the northern parts of the US over the next few days at least, analysts have said the price of oil may fall further - even if the decline was only temporary. \"Weather has been the Achilles' heel of this market,\" said ABN AMRO analyst John Brady. \"But it is winter in the northeast. Eventually we'll get another cold blast.\" Despite a fall of more than $12 a barrel from the record highs reached in late October, the price of crude oil remains almost 30% higher than year-ago levels. Prices rose last week after militant attacks in Riyadh, the capital of Saudi Arabia, briefly renewed fears that the supply chain might be broken in the world's leading crude exporter. \"The market was panicked but fears essentially evaporated... since there was no follow-up,\" said Deborah White, senior economist for energy at SG Securities in Paris.\n",
            "\n",
            "{'sport', 'politics', 'business', 'entertainment', 'tech'}\n"
          ]
        }
      ]
    },
    {
      "cell_type": "code",
      "source": [
        "\n",
        "from nltk import sent_tokenize"
      ],
      "metadata": {
        "id": "8eEUjyIDQ6N0"
      },
      "execution_count": null,
      "outputs": []
    },
    {
      "cell_type": "markdown",
      "source": [
        "# Preprocessing Step and Text Cleaning\n"
      ],
      "metadata": {
        "id": "a5rnTAatRXKB"
      }
    },
    {
      "cell_type": "code",
      "source": [
        "# Remove stop words\n",
        "custom_stop_words = ['a','an','the','this','that','am','is','are','has','had','was','were']\n",
        "cleaned_sent = txt.remove_stop(news,custom_stop_words)\n",
        "cleaned_sent[5]"
      ],
      "metadata": {
        "colab": {
          "base_uri": "https://localhost:8080/",
          "height": 140
        },
        "id": "oXJ1agttRZw6",
        "outputId": "cd6a19dd-ed5b-4d64-9273-ef0af2e978ec"
      },
      "execution_count": null,
      "outputs": [
        {
          "output_type": "execute_result",
          "data": {
            "text/plain": [
              "\"Verizon 'seals takeover of MCI' Verizon won takeover battle for US phone firm MCI with bid worth $6.8bn (Â£3.6bn), reports say. two firms expected to seal deal on Monday morning, according to news agency reports, despite what thought to be higher bid from Qwest. US telecoms market consolidating fast, with former long-distance giant AT&T being bought by former subsidiary SBC earlier year for $16bn. MCI exited bankruptcy in April, having gone bust under previous name WorldCom. bankruptcy followed its admission in 2002 it illegally booked expenses and inflated profits. Shareholders lost about $180bn when company collapsed, while 20,000 workers lost their jobs. Former Worldcom boss Bernie Ebbers currently on trial, accused of overseeing $11bn fraud. Qwest itself come under suspicion of sub-standard behaviour, paying Securities and Exchange Commission $250m in October to settle charges it manipulated its results to keep Wall Street happy. MCI US's second-biggest long distance firm after AT&T. Consolidation in US telecommunications industry picked up in past few months as companies look to cut costs and boost client bases. merger between MCI and Verizon would be fifth billion-dollar telecoms deal since October. Last week, SBC Communications agreed to buy its former parent and phone trailblazer AT&T for about $16bn. Buying MCI would give either Qwest or Verizon access to MCI's global network and business-based subscribers. rationale similar to one underpinning SBC's AT&T deal. Verizon by far bigger company and its own successful mobile arm - factors which may have swung board in its favour since both suitors offering mixture of cash and shares.\""
            ],
            "application/vnd.google.colaboratory.intrinsic+json": {
              "type": "string"
            }
          },
          "metadata": {},
          "execution_count": 9
        }
      ]
    },
    {
      "cell_type": "code",
      "source": [
        "news[5]"
      ],
      "metadata": {
        "colab": {
          "base_uri": "https://localhost:8080/",
          "height": 140
        },
        "id": "zM4yDYYwReld",
        "outputId": "d8fe2515-03d7-4ec5-f61d-c1f00ed8ef66"
      },
      "execution_count": null,
      "outputs": [
        {
          "output_type": "execute_result",
          "data": {
            "text/plain": [
              "\"Verizon 'seals takeover of MCI'\\n \\n Verizon has won a takeover battle for US phone firm MCI with a bid worth $6.8bn (Â£3.6bn), reports say.\\n \\n The two firms are expected to seal the deal on Monday morning, according to news agency reports, despite what was thought to be a higher bid from Qwest. The US telecoms market is consolidating fast, with former long-distance giant AT&T being bought by former subsidiary SBC earlier this year for $16bn. MCI exited bankruptcy in April, having gone bust under previous name WorldCom. The bankruptcy followed its admission in 2002 that it illegally booked expenses and inflated profits.\\n \\n Shareholders lost about $180bn when the company collapsed, while 20,000 workers lost their jobs. Former Worldcom boss Bernie Ebbers is currently on trial, accused of overseeing an $11bn fraud. Qwest has itself come under suspicion of sub-standard behaviour, paying the Securities and Exchange Commission $250m in October to settle charges that it manipulated its results to keep Wall Street happy.\\n \\n MCI is the US's second-biggest long distance firm after AT&T. Consolidation in the US telecommunications industry has picked up in the past few months as companies look to cut costs and boost client bases. A merger between MCI and Verizon would be the fifth billion-dollar telecoms deal since October. Last week, SBC Communications agreed to buy its former parent and phone trailblazer AT&T for about $16bn. Buying MCI would give either Qwest or Verizon access to MCI's global network and business-based subscribers. The rationale is similar to the one underpinning SBC's AT&T deal. Verizon is by far the bigger company and has its own successful mobile arm - factors which may have swung the board in its favour since both suitors are offering a mixture of cash and shares.\\n\""
            ],
            "application/vnd.google.colaboratory.intrinsic+json": {
              "type": "string"
            }
          },
          "metadata": {},
          "execution_count": 10
        }
      ]
    },
    {
      "cell_type": "code",
      "source": [
        "# list of ponctuation that will be removed from texts\n",
        "print(list(string.punctuation))\n",
        "pnt = list(string.punctuation)\n",
        "pnt.remove(':') # we kept the ':' in this example\n",
        "Sent_without_pont = txt.removePonct(cleaned_sent,pnt = pnt)"
      ],
      "metadata": {
        "colab": {
          "base_uri": "https://localhost:8080/"
        },
        "id": "moFgIZbNRf2G",
        "outputId": "f2aa352a-0278-49c4-dfe9-2f42a53532c6"
      },
      "execution_count": null,
      "outputs": [
        {
          "output_type": "stream",
          "name": "stdout",
          "text": [
            "['!', '\"', '#', '$', '%', '&', \"'\", '(', ')', '*', '+', ',', '-', '.', '/', ':', ';', '<', '=', '>', '?', '@', '[', '\\\\', ']', '^', '_', '`', '{', '|', '}', '~']\n"
          ]
        }
      ]
    },
    {
      "cell_type": "code",
      "source": [
        "# The list of categories\n",
        "TYPES = list(set(types))\n",
        "print(TYPES)"
      ],
      "metadata": {
        "colab": {
          "base_uri": "https://localhost:8080/"
        },
        "id": "BAFZ8HEBRiXG",
        "outputId": "fb9f8cf7-9f5c-413b-95f4-3aa95a2ca2f4"
      },
      "execution_count": null,
      "outputs": [
        {
          "output_type": "stream",
          "name": "stdout",
          "text": [
            "['sport', 'politics', 'business', 'entertainment', 'tech']\n"
          ]
        }
      ]
    },
    {
      "cell_type": "markdown",
      "source": [
        "### One hot encoding\n",
        "One hot encoding is a process of converting categorical data variablesso they can be provided to machine learning algorithms to improve predictions."
      ],
      "metadata": {
        "id": "W6T6I0T5Rnlw"
      }
    },
    {
      "cell_type": "code",
      "source": [
        "y = []\n",
        "for i in range(len(types)):\n",
        " if(types[i] == TYPES[0]):\n",
        "  y.append([1,0,0,0,0])\n",
        " elif(types[i] == TYPES[1]):\n",
        "  y.append([0,1,0,0,0])\n",
        " elif(types[i] == TYPES[2]):\n",
        "  y.append([0,0,1,0,0])\n",
        " elif(types[i] == TYPES[3]):\n",
        "  y.append([0,0,0,1,0])\n",
        " elif(types[i] == TYPES[4]):\n",
        "  y.append([0,0,0,0,1])\n",
        "Y = np.asarray(y)\n",
        "print(Y.shape)"
      ],
      "metadata": {
        "colab": {
          "base_uri": "https://localhost:8080/"
        },
        "id": "OV4eDfDhRtxs",
        "outputId": "d6983000-5255-40f7-af2a-d2febff9ec02"
      },
      "execution_count": null,
      "outputs": [
        {
          "output_type": "stream",
          "name": "stdout",
          "text": [
            "(2225, 5)\n"
          ]
        }
      ]
    },
    {
      "cell_type": "markdown",
      "source": [
        "### TfidfVectorizer\n",
        "TF-IDF is an abbreviation for Term Frequency Inverse Document Frequency. This is very common algorithm to transform text into a meaningful representation of numbers which is used to fit machine algorithm for prediction.\n",
        "In simple words, TFIDF is a numerical statistic that shows the importance of a word in a text document."
      ],
      "metadata": {
        "id": "y8vfidEDR1gd"
      }
    },
    {
      "cell_type": "code",
      "source": [
        "# Define the vectoriser\n",
        "vectorizer = TfidfVectorizer(min_df=1, max_df=0.9)"
      ],
      "metadata": {
        "id": "66Ku84h9T5NV"
      },
      "execution_count": null,
      "outputs": []
    },
    {
      "cell_type": "code",
      "source": [
        "# Split the data to training and testing sets\n",
        "from sklearn.model_selection import train_test_split\n",
        "sent_train, sent_test, y_train, y_test = train_test_split(Sent_without_pont, Y, test_size=0.3)"
      ],
      "metadata": {
        "id": "ayoov7bDR6DT"
      },
      "execution_count": null,
      "outputs": []
    },
    {
      "cell_type": "code",
      "source": [
        "# Fit the vectoriser to the data\n",
        "X_train = vectorizer.fit_transform(sent_train) # from documenets to tf-idf representation for training.\n",
        "X_test = vectorizer.transform(sent_test)"
      ],
      "metadata": {
        "id": "IgqhYWalT9l0"
      },
      "execution_count": null,
      "outputs": []
    },
    {
      "cell_type": "code",
      "source": [
        "print(X_train.shape)"
      ],
      "metadata": {
        "colab": {
          "base_uri": "https://localhost:8080/"
        },
        "id": "-n5w026SUCFo",
        "outputId": "3200d9ef-8722-48f5-c010-aa36331efc1d"
      },
      "execution_count": null,
      "outputs": [
        {
          "output_type": "stream",
          "name": "stdout",
          "text": [
            "(1557, 29179)\n"
          ]
        }
      ]
    },
    {
      "cell_type": "code",
      "source": [
        "print(X_test.shape)"
      ],
      "metadata": {
        "colab": {
          "base_uri": "https://localhost:8080/"
        },
        "id": "ggo2oblfVZpz",
        "outputId": "203518b5-a289-4bd0-88e3-29d84594afe9"
      },
      "execution_count": null,
      "outputs": [
        {
          "output_type": "stream",
          "name": "stdout",
          "text": [
            "(668, 29179)\n"
          ]
        }
      ]
    },
    {
      "cell_type": "code",
      "source": [
        "num_labels = len(TYPES)\n",
        "vocab_size = X_train.shape[1]"
      ],
      "metadata": {
        "id": "Mrfi-x9iSDO1"
      },
      "execution_count": null,
      "outputs": []
    },
    {
      "cell_type": "code",
      "source": [
        "print(vocab_size)"
      ],
      "metadata": {
        "colab": {
          "base_uri": "https://localhost:8080/"
        },
        "id": "KDF1iWuuUYYK",
        "outputId": "254af2b3-11b1-4435-e631-ce6d3aafb74e"
      },
      "execution_count": null,
      "outputs": [
        {
          "output_type": "stream",
          "name": "stdout",
          "text": [
            "29179\n"
          ]
        }
      ]
    },
    {
      "cell_type": "markdown",
      "source": [
        "#  Neural network model"
      ],
      "metadata": {
        "id": "eVmc9CjrSD1V"
      }
    },
    {
      "cell_type": "markdown",
      "source": [
        "### Logistic Regression Model\n"
      ],
      "metadata": {
        "id": "0Xb9oWk5SHsS"
      }
    },
    {
      "cell_type": "code",
      "source": [
        "# Define the logistic regression model\n",
        "inp1 = Input(shape = (vocab_size,))\n",
        "x = Dense(num_labels,activation = 'softmax')(inp1)\n",
        "lr = Model(inp1,x)"
      ],
      "metadata": {
        "id": "5CaPXPaRSPRr"
      },
      "execution_count": null,
      "outputs": []
    },
    {
      "cell_type": "markdown",
      "source": [
        "###  MLP with layers type"
      ],
      "metadata": {
        "id": "ZQ56iIt2SbQr"
      }
    },
    {
      "cell_type": "code",
      "source": [
        "# Define the MLP model\n",
        "Inp = Input(shape = (vocab_size,))\n",
        "x1 = Dense(units = 100,activation = 'relu')(Inp)\n",
        "x = Dense(num_labels,activation = 'softmax')(x1)\n",
        "mlp = Model(Inp, x)"
      ],
      "metadata": {
        "id": "CBu8WpioSgCK"
      },
      "execution_count": null,
      "outputs": []
    },
    {
      "cell_type": "code",
      "source": [
        "# Compile using mean_squared error as a loss function\n",
        "mlp.compile(optimizer=\"adamax\", loss=\"mean_squared_error\", metrics=[\"accuracy\"])"
      ],
      "metadata": {
        "id": "6xApcxwlU7bp"
      },
      "execution_count": null,
      "outputs": []
    },
    {
      "cell_type": "code",
      "source": [
        "# Fit the model with validation_split = 0.1\n",
        "history = mlp.fit(X_train.toarray(), y_train ,\n",
        "                  validation_data = (X_test.toarray(),y_test),\n",
        "                  batch_size=25, epochs=60 , verbose=1)"
      ],
      "metadata": {
        "colab": {
          "base_uri": "https://localhost:8080/"
        },
        "id": "SWuxLLzPU9Pq",
        "outputId": "312dad15-7776-407e-f4e5-62c28048d28e"
      },
      "execution_count": null,
      "outputs": [
        {
          "output_type": "stream",
          "name": "stdout",
          "text": [
            "Epoch 1/60\n",
            "63/63 [==============================] - 3s 32ms/step - loss: 0.1483 - accuracy: 0.7938 - val_loss: 0.1319 - val_accuracy: 0.9446\n",
            "Epoch 2/60\n",
            "63/63 [==============================] - 2s 28ms/step - loss: 0.1129 - accuracy: 0.9769 - val_loss: 0.0962 - val_accuracy: 0.9521\n",
            "Epoch 3/60\n",
            "63/63 [==============================] - 2s 30ms/step - loss: 0.0738 - accuracy: 0.9865 - val_loss: 0.0640 - val_accuracy: 0.9716\n",
            "Epoch 4/60\n",
            "63/63 [==============================] - 2s 36ms/step - loss: 0.0441 - accuracy: 0.9923 - val_loss: 0.0435 - val_accuracy: 0.9775\n",
            "Epoch 5/60\n",
            "63/63 [==============================] - 2s 33ms/step - loss: 0.0269 - accuracy: 0.9949 - val_loss: 0.0320 - val_accuracy: 0.9775\n",
            "Epoch 6/60\n",
            "63/63 [==============================] - 3s 42ms/step - loss: 0.0175 - accuracy: 0.9961 - val_loss: 0.0254 - val_accuracy: 0.9790\n",
            "Epoch 7/60\n",
            "63/63 [==============================] - 2s 39ms/step - loss: 0.0120 - accuracy: 0.9968 - val_loss: 0.0212 - val_accuracy: 0.9790\n",
            "Epoch 8/60\n",
            "63/63 [==============================] - 2s 31ms/step - loss: 0.0087 - accuracy: 0.9974 - val_loss: 0.0185 - val_accuracy: 0.9805\n",
            "Epoch 9/60\n",
            "63/63 [==============================] - 2s 34ms/step - loss: 0.0064 - accuracy: 0.9981 - val_loss: 0.0165 - val_accuracy: 0.9805\n",
            "Epoch 10/60\n",
            "63/63 [==============================] - 2s 37ms/step - loss: 0.0049 - accuracy: 0.9987 - val_loss: 0.0151 - val_accuracy: 0.9820\n",
            "Epoch 11/60\n",
            "63/63 [==============================] - 3s 43ms/step - loss: 0.0038 - accuracy: 1.0000 - val_loss: 0.0140 - val_accuracy: 0.9805\n",
            "Epoch 12/60\n",
            "63/63 [==============================] - 3s 41ms/step - loss: 0.0030 - accuracy: 1.0000 - val_loss: 0.0130 - val_accuracy: 0.9820\n",
            "Epoch 13/60\n",
            "63/63 [==============================] - 2s 33ms/step - loss: 0.0024 - accuracy: 1.0000 - val_loss: 0.0123 - val_accuracy: 0.9820\n",
            "Epoch 14/60\n",
            "63/63 [==============================] - 3s 45ms/step - loss: 0.0020 - accuracy: 1.0000 - val_loss: 0.0118 - val_accuracy: 0.9820\n",
            "Epoch 15/60\n",
            "63/63 [==============================] - 3s 41ms/step - loss: 0.0016 - accuracy: 1.0000 - val_loss: 0.0112 - val_accuracy: 0.9820\n",
            "Epoch 16/60\n",
            "63/63 [==============================] - 3s 42ms/step - loss: 0.0014 - accuracy: 1.0000 - val_loss: 0.0108 - val_accuracy: 0.9820\n",
            "Epoch 17/60\n",
            "63/63 [==============================] - 2s 32ms/step - loss: 0.0012 - accuracy: 1.0000 - val_loss: 0.0104 - val_accuracy: 0.9820\n",
            "Epoch 18/60\n",
            "63/63 [==============================] - 2s 28ms/step - loss: 9.9206e-04 - accuracy: 1.0000 - val_loss: 0.0101 - val_accuracy: 0.9805\n",
            "Epoch 19/60\n",
            "63/63 [==============================] - 2s 27ms/step - loss: 8.5362e-04 - accuracy: 1.0000 - val_loss: 0.0098 - val_accuracy: 0.9805\n",
            "Epoch 20/60\n",
            "63/63 [==============================] - 2s 28ms/step - loss: 7.3992e-04 - accuracy: 1.0000 - val_loss: 0.0095 - val_accuracy: 0.9805\n",
            "Epoch 21/60\n",
            "63/63 [==============================] - 2s 28ms/step - loss: 6.4545e-04 - accuracy: 1.0000 - val_loss: 0.0093 - val_accuracy: 0.9805\n",
            "Epoch 22/60\n",
            "63/63 [==============================] - 2s 28ms/step - loss: 5.6569e-04 - accuracy: 1.0000 - val_loss: 0.0091 - val_accuracy: 0.9805\n",
            "Epoch 23/60\n",
            "63/63 [==============================] - 2s 28ms/step - loss: 4.9895e-04 - accuracy: 1.0000 - val_loss: 0.0089 - val_accuracy: 0.9805\n",
            "Epoch 24/60\n",
            "63/63 [==============================] - 2s 28ms/step - loss: 4.4265e-04 - accuracy: 1.0000 - val_loss: 0.0087 - val_accuracy: 0.9805\n",
            "Epoch 25/60\n",
            "63/63 [==============================] - 2s 29ms/step - loss: 3.9372e-04 - accuracy: 1.0000 - val_loss: 0.0085 - val_accuracy: 0.9805\n",
            "Epoch 26/60\n",
            "63/63 [==============================] - 2s 39ms/step - loss: 3.5084e-04 - accuracy: 1.0000 - val_loss: 0.0084 - val_accuracy: 0.9805\n",
            "Epoch 27/60\n",
            "63/63 [==============================] - 2s 39ms/step - loss: 3.1378e-04 - accuracy: 1.0000 - val_loss: 0.0082 - val_accuracy: 0.9805\n",
            "Epoch 28/60\n",
            "63/63 [==============================] - 2s 28ms/step - loss: 2.8163e-04 - accuracy: 1.0000 - val_loss: 0.0081 - val_accuracy: 0.9805\n",
            "Epoch 29/60\n",
            "63/63 [==============================] - 2s 29ms/step - loss: 2.5405e-04 - accuracy: 1.0000 - val_loss: 0.0080 - val_accuracy: 0.9805\n",
            "Epoch 30/60\n",
            "63/63 [==============================] - 2s 30ms/step - loss: 2.2886e-04 - accuracy: 1.0000 - val_loss: 0.0078 - val_accuracy: 0.9805\n",
            "Epoch 31/60\n",
            "63/63 [==============================] - 2s 32ms/step - loss: 2.0735e-04 - accuracy: 1.0000 - val_loss: 0.0077 - val_accuracy: 0.9805\n",
            "Epoch 32/60\n",
            "63/63 [==============================] - 2s 34ms/step - loss: 1.8792e-04 - accuracy: 1.0000 - val_loss: 0.0076 - val_accuracy: 0.9805\n",
            "Epoch 33/60\n",
            "63/63 [==============================] - 3s 54ms/step - loss: 1.7047e-04 - accuracy: 1.0000 - val_loss: 0.0075 - val_accuracy: 0.9805\n",
            "Epoch 34/60\n",
            "63/63 [==============================] - 3s 40ms/step - loss: 1.5508e-04 - accuracy: 1.0000 - val_loss: 0.0074 - val_accuracy: 0.9835\n",
            "Epoch 35/60\n",
            "63/63 [==============================] - 2s 37ms/step - loss: 1.4116e-04 - accuracy: 1.0000 - val_loss: 0.0073 - val_accuracy: 0.9835\n",
            "Epoch 36/60\n",
            "63/63 [==============================] - 2s 35ms/step - loss: 1.2881e-04 - accuracy: 1.0000 - val_loss: 0.0072 - val_accuracy: 0.9835\n",
            "Epoch 37/60\n",
            "63/63 [==============================] - 2s 28ms/step - loss: 1.1772e-04 - accuracy: 1.0000 - val_loss: 0.0072 - val_accuracy: 0.9835\n",
            "Epoch 38/60\n",
            "63/63 [==============================] - 2s 27ms/step - loss: 1.0777e-04 - accuracy: 1.0000 - val_loss: 0.0071 - val_accuracy: 0.9835\n",
            "Epoch 39/60\n",
            "63/63 [==============================] - 2s 28ms/step - loss: 9.8712e-05 - accuracy: 1.0000 - val_loss: 0.0070 - val_accuracy: 0.9835\n",
            "Epoch 40/60\n",
            "63/63 [==============================] - 2s 28ms/step - loss: 9.0554e-05 - accuracy: 1.0000 - val_loss: 0.0069 - val_accuracy: 0.9835\n",
            "Epoch 41/60\n",
            "63/63 [==============================] - 2s 28ms/step - loss: 8.2997e-05 - accuracy: 1.0000 - val_loss: 0.0069 - val_accuracy: 0.9835\n",
            "Epoch 42/60\n",
            "63/63 [==============================] - 2s 28ms/step - loss: 7.6325e-05 - accuracy: 1.0000 - val_loss: 0.0068 - val_accuracy: 0.9835\n",
            "Epoch 43/60\n",
            "63/63 [==============================] - 2s 28ms/step - loss: 7.0110e-05 - accuracy: 1.0000 - val_loss: 0.0067 - val_accuracy: 0.9835\n",
            "Epoch 44/60\n",
            "63/63 [==============================] - 2s 28ms/step - loss: 6.4637e-05 - accuracy: 1.0000 - val_loss: 0.0067 - val_accuracy: 0.9835\n",
            "Epoch 45/60\n",
            "63/63 [==============================] - 2s 36ms/step - loss: 5.9506e-05 - accuracy: 1.0000 - val_loss: 0.0066 - val_accuracy: 0.9835\n",
            "Epoch 46/60\n",
            "63/63 [==============================] - 2s 28ms/step - loss: 5.4887e-05 - accuracy: 1.0000 - val_loss: 0.0065 - val_accuracy: 0.9835\n",
            "Epoch 47/60\n",
            "63/63 [==============================] - 2s 27ms/step - loss: 5.0625e-05 - accuracy: 1.0000 - val_loss: 0.0065 - val_accuracy: 0.9835\n",
            "Epoch 48/60\n",
            "63/63 [==============================] - 2s 27ms/step - loss: 4.6768e-05 - accuracy: 1.0000 - val_loss: 0.0064 - val_accuracy: 0.9850\n",
            "Epoch 49/60\n",
            "63/63 [==============================] - 2s 27ms/step - loss: 4.3240e-05 - accuracy: 1.0000 - val_loss: 0.0064 - val_accuracy: 0.9850\n",
            "Epoch 50/60\n",
            "63/63 [==============================] - 2s 28ms/step - loss: 3.9985e-05 - accuracy: 1.0000 - val_loss: 0.0063 - val_accuracy: 0.9865\n",
            "Epoch 51/60\n",
            "63/63 [==============================] - 2s 29ms/step - loss: 3.7015e-05 - accuracy: 1.0000 - val_loss: 0.0063 - val_accuracy: 0.9850\n",
            "Epoch 52/60\n",
            "63/63 [==============================] - 2s 28ms/step - loss: 3.4225e-05 - accuracy: 1.0000 - val_loss: 0.0062 - val_accuracy: 0.9865\n",
            "Epoch 53/60\n",
            "63/63 [==============================] - 2s 28ms/step - loss: 3.1624e-05 - accuracy: 1.0000 - val_loss: 0.0062 - val_accuracy: 0.9865\n",
            "Epoch 54/60\n",
            "63/63 [==============================] - 2s 28ms/step - loss: 2.9241e-05 - accuracy: 1.0000 - val_loss: 0.0062 - val_accuracy: 0.9865\n",
            "Epoch 55/60\n",
            "63/63 [==============================] - 2s 28ms/step - loss: 2.7092e-05 - accuracy: 1.0000 - val_loss: 0.0061 - val_accuracy: 0.9865\n",
            "Epoch 56/60\n",
            "63/63 [==============================] - 2s 28ms/step - loss: 2.5128e-05 - accuracy: 1.0000 - val_loss: 0.0061 - val_accuracy: 0.9850\n",
            "Epoch 57/60\n",
            "63/63 [==============================] - 2s 28ms/step - loss: 2.3325e-05 - accuracy: 1.0000 - val_loss: 0.0060 - val_accuracy: 0.9865\n",
            "Epoch 58/60\n",
            "63/63 [==============================] - 2s 28ms/step - loss: 2.1648e-05 - accuracy: 1.0000 - val_loss: 0.0060 - val_accuracy: 0.9865\n",
            "Epoch 59/60\n",
            "63/63 [==============================] - 2s 28ms/step - loss: 2.0090e-05 - accuracy: 1.0000 - val_loss: 0.0060 - val_accuracy: 0.9865\n",
            "Epoch 60/60\n",
            "63/63 [==============================] - 2s 28ms/step - loss: 1.8645e-05 - accuracy: 1.0000 - val_loss: 0.0059 - val_accuracy: 0.9865\n"
          ]
        }
      ]
    },
    {
      "cell_type": "markdown",
      "source": [
        "## Model Predictions"
      ],
      "metadata": {
        "id": "dRaoUOObSnf7"
      }
    },
    {
      "cell_type": "code",
      "source": [
        "pred = mlp.predict(X_test.toarray())\n",
        "np.argmax(pred[4])\n",
        "pred_classes = [TYPES[np.argmax(x)] for x in pred]\n",
        "orig = [TYPES[np.argmax(x)] for x in y_test]\n",
        "print(\"Predicted values : \",pred_classes[0:100])\n",
        "print(\"Original values : \",orig[0:100])"
      ],
      "metadata": {
        "colab": {
          "base_uri": "https://localhost:8080/"
        },
        "id": "b6weqP-eSjxV",
        "outputId": "23d5280c-4e8f-4918-94a6-a5ba5cfe647a"
      },
      "execution_count": null,
      "outputs": [
        {
          "output_type": "stream",
          "name": "stdout",
          "text": [
            "21/21 [==============================] - 0s 13ms/step\n",
            "Predicted values :  ['tech', 'entertainment', 'business', 'business', 'business', 'sport', 'politics', 'sport', 'sport', 'tech', 'sport', 'business', 'business', 'sport', 'business', 'tech', 'business', 'business', 'entertainment', 'business', 'entertainment', 'tech', 'politics', 'entertainment', 'sport', 'business', 'politics', 'sport', 'politics', 'sport', 'politics', 'sport', 'sport', 'entertainment', 'business', 'entertainment', 'tech', 'sport', 'politics', 'tech', 'politics', 'politics', 'politics', 'sport', 'tech', 'entertainment', 'tech', 'entertainment', 'business', 'sport', 'sport', 'politics', 'politics', 'business', 'sport', 'tech', 'tech', 'tech', 'politics', 'tech', 'business', 'entertainment', 'sport', 'tech', 'sport', 'entertainment', 'entertainment', 'sport', 'politics', 'tech', 'politics', 'tech', 'sport', 'entertainment', 'tech', 'sport', 'politics', 'tech', 'sport', 'business', 'business', 'entertainment', 'sport', 'sport', 'sport', 'sport', 'entertainment', 'entertainment', 'tech', 'politics', 'business', 'sport', 'business', 'entertainment', 'politics', 'sport', 'business', 'business', 'sport', 'sport']\n",
            "Original values :  ['tech', 'entertainment', 'business', 'business', 'business', 'sport', 'politics', 'sport', 'sport', 'tech', 'sport', 'business', 'business', 'sport', 'business', 'tech', 'business', 'business', 'entertainment', 'business', 'entertainment', 'tech', 'politics', 'entertainment', 'sport', 'business', 'politics', 'sport', 'politics', 'sport', 'politics', 'sport', 'sport', 'entertainment', 'business', 'entertainment', 'tech', 'sport', 'politics', 'tech', 'politics', 'politics', 'politics', 'sport', 'tech', 'entertainment', 'tech', 'entertainment', 'business', 'sport', 'sport', 'politics', 'politics', 'business', 'sport', 'tech', 'tech', 'tech', 'politics', 'tech', 'entertainment', 'business', 'sport', 'tech', 'sport', 'entertainment', 'entertainment', 'sport', 'politics', 'tech', 'politics', 'tech', 'sport', 'entertainment', 'tech', 'sport', 'politics', 'tech', 'sport', 'business', 'business', 'entertainment', 'sport', 'sport', 'sport', 'sport', 'entertainment', 'entertainment', 'tech', 'politics', 'business', 'sport', 'business', 'entertainment', 'politics', 'sport', 'politics', 'business', 'sport', 'sport']\n"
          ]
        }
      ]
    },
    {
      "cell_type": "code",
      "metadata": {
        "id": "iypeZLalcaKN"
      },
      "source": [
        "# captures indexes of misclassified numbers\n",
        "ERR = []\n",
        "for i in range(y_test.shape[0]):\n",
        "    if(pred_classes[i] != orig[i]):\n",
        "        ERR.append(i)"
      ],
      "execution_count": null,
      "outputs": []
    },
    {
      "cell_type": "code",
      "metadata": {
        "id": "xYiv-IlmcaKN",
        "colab": {
          "base_uri": "https://localhost:8080/"
        },
        "outputId": "acc2e134-ea92-45c6-e477-1bb2416e55ec"
      },
      "source": [
        "len(ERR)"
      ],
      "execution_count": null,
      "outputs": [
        {
          "output_type": "execute_result",
          "data": {
            "text/plain": [
              "522"
            ]
          },
          "metadata": {},
          "execution_count": 39
        }
      ]
    },
    {
      "cell_type": "markdown",
      "source": [
        "# Conclusion\n",
        "**Multilayer perceptrons are a powerful tool in the field of machine learning. This algorithm fitted on the news data gave an accuracy of 1 and a validation accuracy of 0.9865.**"
      ],
      "metadata": {
        "id": "Z_xmbV433pnq"
      }
    }
  ]
}